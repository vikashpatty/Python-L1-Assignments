{
 "cells": [
  {
   "cell_type": "code",
   "execution_count": 2,
   "metadata": {},
   "outputs": [
    {
     "name": "stdout",
     "output_type": "stream",
     "text": [
      "range(0, 4)\n"
     ]
    },
    {
     "ename": "AttributeError",
     "evalue": "'range' object has no attribute 'append'",
     "output_type": "error",
     "traceback": [
      "\u001b[1;31m---------------------------------------------------------------------------\u001b[0m",
      "\u001b[1;31mAttributeError\u001b[0m                            Traceback (most recent call last)",
      "\u001b[1;32m<ipython-input-2-db00beb52bcd>\u001b[0m in \u001b[0;36m<module>\u001b[1;34m\u001b[0m\n\u001b[0;32m      2\u001b[0m \u001b[0mseclist\u001b[0m \u001b[1;33m=\u001b[0m \u001b[0mmylist\u001b[0m\u001b[1;33m\u001b[0m\u001b[1;33m\u001b[0m\u001b[0m\n\u001b[0;32m      3\u001b[0m \u001b[0mprint\u001b[0m\u001b[1;33m(\u001b[0m\u001b[0mseclist\u001b[0m\u001b[1;33m)\u001b[0m\u001b[1;33m\u001b[0m\u001b[1;33m\u001b[0m\u001b[0m\n\u001b[1;32m----> 4\u001b[1;33m \u001b[0mmylist\u001b[0m\u001b[1;33m.\u001b[0m\u001b[0mappend\u001b[0m\u001b[1;33m(\u001b[0m\u001b[1;36m4\u001b[0m\u001b[1;33m)\u001b[0m\u001b[1;33m\u001b[0m\u001b[1;33m\u001b[0m\u001b[0m\n\u001b[0m\u001b[0;32m      5\u001b[0m \u001b[0mprint\u001b[0m\u001b[1;33m(\u001b[0m\u001b[0mseclist\u001b[0m\u001b[1;33m)\u001b[0m\u001b[1;33m\u001b[0m\u001b[1;33m\u001b[0m\u001b[0m\n\u001b[0;32m      6\u001b[0m \u001b[0mseclist\u001b[0m \u001b[1;33m=\u001b[0m \u001b[0mmylist\u001b[0m\u001b[1;33m[\u001b[0m\u001b[1;33m:\u001b[0m\u001b[1;33m]\u001b[0m\u001b[1;33m\u001b[0m\u001b[1;33m\u001b[0m\u001b[0m\n",
      "\u001b[1;31mAttributeError\u001b[0m: 'range' object has no attribute 'append'"
     ]
    }
   ],
   "source": [
    "mylist = range(4)\n",
    "seclist = mylist\n",
    "print(seclist)\n",
    "mylist.append(4)\n",
    "print(seclist)\n",
    "seclist = mylist[:]\n",
    "print(seclist)\n",
    "mylist.append(5)\n",
    "print(seclist)"
   ]
  },
  {
   "cell_type": "code",
   "execution_count": 3,
   "metadata": {},
   "outputs": [
    {
     "name": "stdout",
     "output_type": "stream",
     "text": [
      "0\n",
      "1\n",
      "8\n",
      "27\n",
      "64\n",
      "125\n"
     ]
    }
   ],
   "source": [
    "def f(n):\n",
    "  for x in range(n):\n",
    "    yield x**3\n",
    "\n",
    "for x in f(6):\n",
    "  print(x)\n"
   ]
  },
  {
   "cell_type": "markdown",
   "metadata": {},
   "source": [
    "<h3>3. Write a program to receive a string from keybord and check if the string has two 'e' in the characters. \n",
    "   If yes return True else False.\n",
    "</h3>"
   ]
  },
  {
   "cell_type": "code",
   "execution_count": 4,
   "metadata": {},
   "outputs": [
    {
     "name": "stdout",
     "output_type": "stream",
     "text": [
      "vikash\n",
      "False\n"
     ]
    }
   ],
   "source": [
    "count=0\n",
    "string=input()\n",
    "for i in range(len(string)-1):\n",
    "  if(string[i]==\"e\"):\n",
    "    count=count+1\n",
    "if(count==2):\n",
    "  print(\"True\")\n",
    "else:\n",
    "  print(\"False\")"
   ]
  },
  {
   "cell_type": "code",
   "execution_count": 5,
   "metadata": {},
   "outputs": [
    {
     "name": "stdout",
     "output_type": "stream",
     "text": [
      "None\n",
      "7\n"
     ]
    }
   ],
   "source": [
    "counter = 1\n",
    "def dolots(count):\n",
    "  global counter\n",
    "  for i in (1, 2, 3):\n",
    "    counter = count + i\n",
    "\n",
    "print(dolots(4))\n",
    "print(counter)\n"
   ]
  },
  {
   "cell_type": "markdown",
   "metadata": {},
   "source": [
    "<h3>5.\tWrite a code to read  the data from  input file called input.txt and count the number of characters per line, number of words per line and write these into output file called as output.txt \n",
    "    </h3>"
   ]
  },
  {
   "cell_type": "code",
   "execution_count": 8,
   "metadata": {},
   "outputs": [],
   "source": [
    "words_count=0\n",
    "char_count=0\n",
    "\n",
    "file1=open(\"input.txt\",\"r\")\n",
    "file2=open(\"output.txt\",\"w\")\n",
    "for line in file1:\n",
    "    l=1\n",
    "    words=line.split()\n",
    "    words_count=len(words)\n",
    "    char_count=len(line)\n",
    "    file2.write(\"line num:%d Number of words:%d Number of words %d \\n\" %(l,words_count,char_count))\n",
    "    l=l+1"
   ]
  },
  {
   "cell_type": "code",
   "execution_count": 9,
   "metadata": {},
   "outputs": [
    {
     "name": "stdout",
     "output_type": "stream",
     "text": [
      "[0, 1, 2, 3, 4, 5]\n",
      "(5, 4, 7, 6, 9, 5)\n"
     ]
    }
   ],
   "source": [
    "List1=[1,2,3,4,5,0]\n",
    "List2=[7,4,3,2,6,5,2,1]\n",
    "List3=[9,5,3,0,1]\n",
    "#a) Create Maxlist by taking 2 maximum elements from each list.\n",
    "List1.sort()\n",
    "List2.sort()\n",
    "List3.sort()\n",
    "print (List1)\n",
    "List5=List1[len(List1)-1],List1[len(List1)-2],List2[len(List2)-1],List2[len(List2)-2],List3[len(List3)-1],List3[len(List3)-2]\n",
    "print (List5)"
   ]
  },
  {
   "cell_type": "code",
   "execution_count": 10,
   "metadata": {},
   "outputs": [
    {
     "name": "stdout",
     "output_type": "stream",
     "text": [
      "6.0\n"
     ]
    }
   ],
   "source": [
    "#b) Find average value from all the elements of Maxlist.\n",
    "sum=0\n",
    "for i in range(len(List5)):\n",
    "  sum=sum+List5[i]\n",
    "avg=sum/len(List5)\n",
    "print (avg)"
   ]
  },
  {
   "cell_type": "code",
   "execution_count": 11,
   "metadata": {},
   "outputs": [
    {
     "name": "stdout",
     "output_type": "stream",
     "text": [
      "(0, 1, 1, 2, 0, 1)\n"
     ]
    }
   ],
   "source": [
    "#c) Create Minlist by taking 2 minimum elements from each list.\n",
    "List6=List1[0],List1[1],List2[0],List2[1],List3[0],List3[1]\n",
    "print (List6)"
   ]
  },
  {
   "cell_type": "code",
   "execution_count": 12,
   "metadata": {},
   "outputs": [
    {
     "name": "stdout",
     "output_type": "stream",
     "text": [
      "0.8333333333333334\n"
     ]
    }
   ],
   "source": [
    "#d) Find average value from all the elements of Maxlist.\n",
    "sum=0\n",
    "for i in range(len(List6)):\n",
    "  sum=sum+List6[i]\n",
    "avg_min=sum/len(List6)\n",
    "print (avg_min)"
   ]
  },
  {
   "cell_type": "markdown",
   "metadata": {},
   "source": [
    "<h3>7.\tWrite program to convert prefix/net mask to IP\n",
    "eg: input:16  output: 255.255.0.0\n",
    "</h3>"
   ]
  },
  {
   "cell_type": "code",
   "execution_count": 13,
   "metadata": {},
   "outputs": [
    {
     "name": "stdout",
     "output_type": "stream",
     "text": [
      "enter a mask16\n",
      "255.255.0.0\n"
     ]
    }
   ],
   "source": [
    "from socket import inet_ntoa\n",
    "from struct import pack\n",
    "\n",
    "\n",
    "def DottedNetmask(mask):\n",
    "    bits =  0xffffffff ^ (1 << 32 - mask)-1\n",
    "    return inet_ntoa(pack('>I', bits))\n",
    "\n",
    "mask=int(input(\"enter a mask\"))\n",
    "ip=DottedNetmask(mask)\n",
    "print(ip)"
   ]
  },
  {
   "cell_type": "markdown",
   "metadata": {},
   "source": [
    "<h3>8.\tCreate a suitable data construct to read the data from an xml document as shown below:\n",
    "<bookstore shelf=\"New Arrivals\">\n",
    "  <book category=\"COOKING\">\n",
    "    <title lang=\"en\">Everyday Italian</title>\n",
    "    <author>Giada De Laurentiis</author>\n",
    "    <year>2005</year>\n",
    "    <price>30.00</price>\n",
    "  </book>\n",
    "  <book category=\"CHILDREN\">\n",
    "    <title lang=\"en\">Harry Potter</title>\n",
    "    <author>J K. Rowling</author>\n",
    "    <year>2005</year>\n",
    "    <price>29.99</price>\n",
    "  </book>\n",
    "  <book category=\"WEB\">\n",
    "    <title lang=\"en\">Learning XML</title>\n",
    "    <author>Erik T. Ray</author>\n",
    "    <year>2003</year>\n",
    "    <price>39.95</price>\n",
    "  </book>\n",
    "</bookstore>\n",
    "</h3>"
   ]
  },
  {
   "cell_type": "code",
   "execution_count": 14,
   "metadata": {},
   "outputs": [
    {
     "name": "stdout",
     "output_type": "stream",
     "text": [
      "book {'category': 'COOKING'}\n",
      "title : Everyday Italian\n",
      "author : Giada De Laurentiis\n",
      "year : 2005\n",
      "price : 30.00\n",
      "book {'category': 'CHILDREN'}\n",
      "title : Harry Potter\n",
      "author : J K. Rowling\n",
      "year : 2005\n",
      "price : 29.99\n",
      "book {'category': 'WEB'}\n",
      "title : Learning XML\n",
      "author : Erik T. Ray\n",
      "year : 2003\n",
      "price : 39.95\n"
     ]
    }
   ],
   "source": [
    "import xml.etree.ElementTree as ET\n",
    "tree = ET.parse('items.xml')\n",
    "root = tree.getroot()\n",
    "for child in root:\n",
    "    print(child.tag,child.attrib)\n",
    "    for item in child:\n",
    "        print(item.tag,\":\",item.text)"
   ]
  },
  {
   "cell_type": "markdown",
   "metadata": {},
   "source": [
    "<h3>9.\tCreate a suitable object type and  check for file size of 0 bytes of the directory contents as shown below\n",
    "<br>02/15/2016              10:49 PM               962                     switchfinal.py\n",
    "<br>02/15/2016             10:49 PM               943                       switchfinal.py.bak\n",
    "<br>01/27/2016             11:46 AM                15                        t.py\n",
    "<br>03/31/2016            12:39 PM               840                        t1.py\n",
    "<br>01/25/2016            10:34 AM             2,407                      tc1.py\n",
    "<br>02/14/2017           09:13 AM                 0                           teat.py\n",
    "<br>03/15/2016          05:52 PM                 5                             tes.py\n",
    "</h3>"
   ]
  },
  {
   "cell_type": "code",
   "execution_count": 16,
   "metadata": {},
   "outputs": [
    {
     "name": "stdout",
     "output_type": "stream",
     "text": [
      "output.txt\n"
     ]
    }
   ],
   "source": [
    "import os\n",
    "my_dir = r'C:\\Users\\imvik\\Wipro Assignment'\n",
    "\n",
    "for f in os.listdir(my_dir):   \n",
    "    path = os.path.join(my_dir, f)\n",
    "    if os.path.isfile(path):  \n",
    "        if(os.path.getsize(path)==0):\n",
    "            print(f)"
   ]
  },
  {
   "cell_type": "markdown",
   "metadata": {},
   "source": [
    "<h3>10.Create a suitable object type to eliminate the duplicate elements</h3>"
   ]
  },
  {
   "cell_type": "code",
   "execution_count": 17,
   "metadata": {},
   "outputs": [
    {
     "name": "stdout",
     "output_type": "stream",
     "text": [
      "{1, 2, 3, 6, 7}\n"
     ]
    }
   ],
   "source": [
    "list=[2,7,3,6,1,2,7]\n",
    "rem_dup=set() \n",
    "for i in list:\n",
    "    rem_dup.add(i)\n",
    "print(rem_dup)"
   ]
  }
 ],
 "metadata": {
  "kernelspec": {
   "display_name": "Python 3",
   "language": "python",
   "name": "python3"
  },
  "language_info": {
   "codemirror_mode": {
    "name": "ipython",
    "version": 3
   },
   "file_extension": ".py",
   "mimetype": "text/x-python",
   "name": "python",
   "nbconvert_exporter": "python",
   "pygments_lexer": "ipython3",
   "version": "3.7.1"
  }
 },
 "nbformat": 4,
 "nbformat_minor": 2
}
